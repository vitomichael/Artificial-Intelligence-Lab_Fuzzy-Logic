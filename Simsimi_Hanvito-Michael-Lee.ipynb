{
  "nbformat": 4,
  "nbformat_minor": 0,
  "metadata": {
    "colab": {
      "name": "Tugas Outline_Tugas_Fuzzy Vito.ipynb",
      "provenance": [],
      "collapsed_sections": [],
      "toc_visible": true
    },
    "kernelspec": {
      "name": "python3",
      "display_name": "Python 3"
    },
    "language_info": {
      "name": "python"
    }
  },
  "cells": [
    {
      "cell_type": "markdown",
      "metadata": {
        "id": "BzBi9ZMn6sSm"
      },
      "source": [
        "Langkah-langkah pembuatan kodingan Fuzzy"
      ]
    },
    {
      "cell_type": "markdown",
      "metadata": {
        "id": "qNxhuRdY6jwe"
      },
      "source": [
        "# Import Library"
      ]
    },
    {
      "cell_type": "markdown",
      "metadata": {
        "id": "B6f60VG064t0"
      },
      "source": [
        "Library yang digunakan antara lain:\n",
        "*   pandas\n",
        "*   matplotlib.pyplot\n",
        "\n",
        "\n",
        "\n"
      ]
    },
    {
      "cell_type": "code",
      "metadata": {
        "id": "49GljJVjREwx"
      },
      "source": [
        "import pandas as pd\n",
        "import matplotlib.pyplot as plt\n",
        "import numpy as np\n"
      ],
      "execution_count": null,
      "outputs": []
    },
    {
      "cell_type": "markdown",
      "metadata": {
        "id": "dkT9SMvH7gX9"
      },
      "source": [
        "# Panggil Dataset"
      ]
    },
    {
      "cell_type": "markdown",
      "metadata": {
        "id": "K8lubzU-Ix1r"
      },
      "source": [
        "Dataset yang digunakan adalah dataset penghasilan dan pengeluaran dari orangtua mahasiswa, kalian diminta untuk melakukan penyaringan untuk mendapatkan mahasiswa yang layak untuk diberikan bantuan beasiswa"
      ]
    },
    {
      "cell_type": "markdown",
      "metadata": {
        "id": "hhTfx4yN7sI3"
      },
      "source": [
        "dataset ada pada link ini: https://drive.google.com/file/d/1OqZPEN2m_igflKLzO7w4EFb9717b_jj9/view?usp=sharing\n",
        "\n",
        "code untuk mendownload dataset: \n",
        "`!gdown --id 1OqZPEN2m_igflKLzO7w4EFb9717b_jj9`\n",
        "\n",
        "salah satu cara untuk membaca file excel: \n",
        "`df = pd.read_excel('nama_file.xlsx')`\n",
        "\n"
      ]
    },
    {
      "cell_type": "code",
      "metadata": {
        "colab": {
          "base_uri": "https://localhost:8080/",
          "height": 272
        },
        "id": "cL6JEHC_Q69W",
        "outputId": "124b357d-a9aa-40fa-b171-eb14e347bed7"
      },
      "source": [
        "!gdown --id 1OqZPEN2m_igflKLzO7w4EFb9717b_jj9\n",
        "\n",
        "data = pd.read_excel('Mahasiswa.xls')\n",
        "\n",
        "data.sample(5)"
      ],
      "execution_count": null,
      "outputs": [
        {
          "output_type": "stream",
          "text": [
            "Downloading...\n",
            "From: https://drive.google.com/uc?id=1OqZPEN2m_igflKLzO7w4EFb9717b_jj9\n",
            "To: /content/Mahasiswa.xls\n",
            "\r  0% 0.00/32.3k [00:00<?, ?B/s]\r100% 32.3k/32.3k [00:00<00:00, 27.6MB/s]\n"
          ],
          "name": "stdout"
        },
        {
          "output_type": "execute_result",
          "data": {
            "text/html": [
              "<div>\n",
              "<style scoped>\n",
              "    .dataframe tbody tr th:only-of-type {\n",
              "        vertical-align: middle;\n",
              "    }\n",
              "\n",
              "    .dataframe tbody tr th {\n",
              "        vertical-align: top;\n",
              "    }\n",
              "\n",
              "    .dataframe thead th {\n",
              "        text-align: right;\n",
              "    }\n",
              "</style>\n",
              "<table border=\"1\" class=\"dataframe\">\n",
              "  <thead>\n",
              "    <tr style=\"text-align: right;\">\n",
              "      <th></th>\n",
              "      <th>Id</th>\n",
              "      <th>Penghasilan</th>\n",
              "      <th>Pengeluaran</th>\n",
              "    </tr>\n",
              "  </thead>\n",
              "  <tbody>\n",
              "    <tr>\n",
              "      <th>43</th>\n",
              "      <td>44</td>\n",
              "      <td>17.37</td>\n",
              "      <td>9.68</td>\n",
              "    </tr>\n",
              "    <tr>\n",
              "      <th>82</th>\n",
              "      <td>83</td>\n",
              "      <td>17.88</td>\n",
              "      <td>10.64</td>\n",
              "    </tr>\n",
              "    <tr>\n",
              "      <th>37</th>\n",
              "      <td>38</td>\n",
              "      <td>9.94</td>\n",
              "      <td>10.82</td>\n",
              "    </tr>\n",
              "    <tr>\n",
              "      <th>98</th>\n",
              "      <td>99</td>\n",
              "      <td>9.83</td>\n",
              "      <td>10.64</td>\n",
              "    </tr>\n",
              "    <tr>\n",
              "      <th>55</th>\n",
              "      <td>56</td>\n",
              "      <td>13.81</td>\n",
              "      <td>9.25</td>\n",
              "    </tr>\n",
              "  </tbody>\n",
              "</table>\n",
              "</div>"
            ],
            "text/plain": [
              "    Id  Penghasilan  Pengeluaran\n",
              "43  44        17.37         9.68\n",
              "82  83        17.88        10.64\n",
              "37  38         9.94        10.82\n",
              "98  99         9.83        10.64\n",
              "55  56        13.81         9.25"
            ]
          },
          "metadata": {
            "tags": []
          },
          "execution_count": 336
        }
      ]
    },
    {
      "cell_type": "markdown",
      "metadata": {
        "id": "_o-3LRZL9Yn7"
      },
      "source": [
        "# Fuzzification\n",
        "\n",
        "Pada tugas ini buatlah fungsi fuzzification dengan 3 keanggotaan dengan fungsi trapesium. Keanggotaannya yaitu sedikit, sedang, dan banyak\n",
        "\n",
        "\n",
        "Batas2 yang digunakan yaitu:\n"
      ]
    },
    {
      "cell_type": "markdown",
      "metadata": {
        "id": "iExWii2-97GD"
      },
      "source": [
        "## Penghasilan\n",
        "![penghasilan.png](data:image/png;base64,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)\n",
        "1.   Sedikit `a=0 b=0 c=4 d=8`\n",
        "2.   Sedang  `a=4 b=8 c=12 d=15`\n",
        "1.   Banyak `a=12 b=15 c=nilai max d=nilai max`\n",
        "\n",
        "\n"
      ]
    },
    {
      "cell_type": "code",
      "metadata": {
        "id": "5CJhBydkSBn-"
      },
      "source": [
        "def fuzzy_penghasilan(x):\n",
        "    penghasilan = {'sedikit': 0, 'sedang': 0, 'banyak': 0}\n",
        "\n",
        "    a, b, c, d, e = 3, 6, 9, 12, 20\n",
        "\n",
        "    # Garis Datar\n",
        "    if x <= a:\n",
        "        penghasilan['sedikit'] = 1\n",
        "    if b <= x <= c:\n",
        "        penghasilan['sedang'] = 1\n",
        "    if d <= x <= e:\n",
        "        penghasilan['banyak'] = 1\n",
        "    \n",
        "    # Garis Miring (Gradient)\n",
        "    if a < x <= b:\n",
        "        penghasilan['sedikit'] = -(x - b) / (b - a)\n",
        "    if a < x < b:\n",
        "        penghasilan['sedang'] = (x - a) / (b - a)\n",
        "    if c < x <= d:\n",
        "        penghasilan['sedang'] = -(x - d) / (d - c)\n",
        "    if c < x < d:\n",
        "        penghasilan['banyak'] = (x - c) / (d - c)\n",
        "        \n",
        "    return penghasilan"
      ],
      "execution_count": null,
      "outputs": []
    },
    {
      "cell_type": "code",
      "metadata": {
        "colab": {
          "base_uri": "https://localhost:8080/",
          "height": 241
        },
        "id": "QcCdFmRvTxJ0",
        "outputId": "47a56e4e-d239-492d-be30-4d46f8f8c5c6"
      },
      "source": [
        "plt.figure(figsize=(10, 3))\n",
        "plt.title(\"Fungsi Keanggotaan Penghasilan\")\n",
        "\n",
        "plt.plot(range(21), [fuzzy_penghasilan(x)['sedikit'] for x in range(21)], 'y')\n",
        "plt.plot(range(21), [fuzzy_penghasilan(x)['sedang'] for x in range(21)], 'b')\n",
        "plt.plot(range(21), [fuzzy_penghasilan(x)['banyak'] for x in range(21)], 'g')\n",
        "\n",
        "plt.plot(0, 0, 'r', linewidth=1.5, label='Sedikit')\n",
        "plt.plot(0, 0, 'y', linewidth=1.5, label='Sedang')\n",
        "plt.plot(0, 0, 'g', linewidth=1.5, label='Banyak')\n",
        "\n",
        "plt.xticks(list(range(21)))\n",
        "plt.xlabel(\"value / x\")\n",
        "plt.legend()\n",
        "plt.show()"
      ],
      "execution_count": null,
      "outputs": [
        {
          "output_type": "display_data",
          "data": {
            "image/png": "[encoded data removed]",
            "text/plain": [
              "<Figure size 720x216 with 1 Axes>"
            ]
          },
          "metadata": {
            "tags": [],
            "needs_background": "light"
          }
        }
      ]
    },
    {
      "cell_type": "markdown",
      "metadata": {
        "id": "or7yxhtVLSN4"
      },
      "source": [
        "## Pengeluaran\n",
        "![image.png](data:image/png;base64,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)\n",
        "1.   Sedikit `a=0 b=0 c=2 d=3.5`\n",
        "2.   Sedang  `a=2 b=3.5 c=5.5 d=6.5`\n",
        "1.   Banyak `a=5.5 b=6.5 c=nilai max d=nilai max`\n",
        "\n",
        "\n"
      ]
    },
    {
      "cell_type": "code",
      "metadata": {
        "id": "ZtpZPR0RUeHT"
      },
      "source": [
        "def fuzzy_pengeluaran(x):\n",
        "    pengeluaran = {'sedikit': 0, 'sedang': 0, 'banyak': 0}\n",
        "\n",
        "    a, b, c, d, e = 2, 4, 6, 8, 12\n",
        "\n",
        "    # Garis Datar\n",
        "    if x <= a:\n",
        "        pengeluaran['sedikit'] = 1\n",
        "    if b <= x <= c:\n",
        "        pengeluaran['sedang'] = 1\n",
        "    if d <= x <= e:\n",
        "        pengeluaran['banyak'] = 1\n",
        "    \n",
        "    # Garis Miring (Gradient)\n",
        "    if a < x <= b:\n",
        "        pengeluaran['sedikit'] = -(x - b) / (b - a)\n",
        "    if a < x < b:\n",
        "        pengeluaran['sedang'] = (x - a) / (b - a)\n",
        "    if c < x <= d:\n",
        "        pengeluaran['sedang'] = -(x - d) / (d - c)\n",
        "    if c < x < d:\n",
        "        pengeluaran['banyak'] = (x - c) / (d - c)\n",
        "        \n",
        "    return pengeluaran"
      ],
      "execution_count": null,
      "outputs": []
    },
    {
      "cell_type": "code",
      "metadata": {
        "colab": {
          "base_uri": "https://localhost:8080/",
          "height": 241
        },
        "id": "h83r8SrUVPCH",
        "outputId": "cd173672-8d31-464c-838a-18e786142c22"
      },
      "source": [
        "plt.figure(figsize=(10, 3))\n",
        "plt.title(\"Fungsi Keanggotaan Pengeluaran\")\n",
        "\n",
        "plt.plot(range(13), [fuzzy_pengeluaran(x)['sedikit'] for x in range(13)], 'y')\n",
        "plt.plot(range(13), [fuzzy_pengeluaran(x)['sedang'] for x in range(13)], 'b')\n",
        "plt.plot(range(13), [fuzzy_pengeluaran(x)['banyak'] for x in range(13)], 'g')\n",
        "\n",
        "plt.plot(0, 0, 'r', linewidth=1.5, label='Sedikit')\n",
        "plt.plot(0, 0, 'y', linewidth=1.5, label='Sedang')\n",
        "plt.plot(0, 0, 'g', linewidth=1.5, label='Banyak')\n",
        "\n",
        "plt.xticks(list(range(13)))\n",
        "plt.xlabel(\"value / x\")\n",
        "plt.legend()\n",
        "plt.show()"
      ],
      "execution_count": null,
      "outputs": [
        {
          "output_type": "display_data",
          "data": {
            "image/png": "[encoded data removed]",
            "text/plain": [
              "<Figure size 720x216 with 1 Axes>"
            ]
          },
          "metadata": {
            "tags": [],
            "needs_background": "light"
          }
        }
      ]
    },
    {
      "cell_type": "code",
      "metadata": {
        "colab": {
          "base_uri": "https://localhost:8080/"
        },
        "id": "tbn061drWL30",
        "outputId": "f7163e37-2242-449b-f116-03dfa8c9aa8d"
      },
      "source": [
        "fuzzify = []\n",
        "\n",
        "for penghasilan, pengeluaran in zip(data['Penghasilan'], data['Pengeluaran']):\n",
        "    fuzzy = {'Penghasilan': 0, 'Pengeluaran': 0}\n",
        "\n",
        "    fuzzy['Penghasilan'] = fuzzy_penghasilan(penghasilan)\n",
        "    fuzzy['Pengeluaran'] = fuzzy_pengeluaran(pengeluaran)\n",
        "\n",
        "    fuzzify.append(fuzzy)\n",
        "\n",
        "print(\"Contoh Hasil Fuzzifikasi :\\n\")\n",
        "for i in range(0, 20, 2):\n",
        "    print(\"Penghasilan   :\", fuzzify[i]['Penghasilan'])\n",
        "    print(\"Pengeluaran   :\", fuzzify[i]['Pengeluaran'], end=\"\\n\\n\")"
      ],
      "execution_count": null,
      "outputs": [
        {
          "output_type": "stream",
          "text": [
            "Contoh Hasil Fuzzifikasi :\n",
            "\n",
            "Penghasilan   : {'sedikit': 0, 'sedang': 0, 'banyak': 1}\n",
            "Pengeluaran   : {'sedikit': 0, 'sedang': 0, 'banyak': 1}\n",
            "\n",
            "Penghasilan   : {'sedikit': 0, 'sedang': 0, 'banyak': 1}\n",
            "Pengeluaran   : {'sedikit': 0, 'sedang': 0, 'banyak': 1}\n",
            "\n",
            "Penghasilan   : {'sedikit': 0, 'sedang': 0, 'banyak': 1}\n",
            "Pengeluaran   : {'sedikit': 0, 'sedang': 0.5049999999999999, 'banyak': 0.4950000000000001}\n",
            "\n",
            "Penghasilan   : {'sedikit': 0, 'sedang': 0.9900000000000002, 'banyak': 0.009999999999999787}\n",
            "Pengeluaran   : {'sedikit': 0, 'sedang': 0, 'banyak': 1}\n",
            "\n",
            "Penghasilan   : {'sedikit': 0, 'sedang': 0, 'banyak': 1}\n",
            "Pengeluaran   : {'sedikit': 0, 'sedang': 0, 'banyak': 1}\n",
            "\n",
            "Penghasilan   : {'sedikit': 0.07333333333333325, 'sedang': 0.9266666666666667, 'banyak': 0}\n",
            "Pengeluaran   : {'sedikit': 0, 'sedang': 0.6699999999999999, 'banyak': 0.33000000000000007}\n",
            "\n",
            "Penghasilan   : {'sedikit': 0.15000000000000005, 'sedang': 0.85, 'banyak': 0}\n",
            "Pengeluaran   : {'sedikit': 0, 'sedang': 0.8250000000000002, 'banyak': 0.17499999999999982}\n",
            "\n",
            "Penghasilan   : {'sedikit': 0, 'sedang': 0, 'banyak': 1}\n",
            "Pengeluaran   : {'sedikit': 0, 'sedang': 0, 'banyak': 1}\n",
            "\n",
            "Penghasilan   : {'sedikit': 0, 'sedang': 0, 'banyak': 1}\n",
            "Pengeluaran   : {'sedikit': 0, 'sedang': 0, 'banyak': 1}\n",
            "\n",
            "Penghasilan   : {'sedikit': 0, 'sedang': 0.6799999999999997, 'banyak': 0.3200000000000003}\n",
            "Pengeluaran   : {'sedikit': 0, 'sedang': 1, 'banyak': 0}\n",
            "\n"
          ],
          "name": "stdout"
        }
      ]
    },
    {
      "cell_type": "markdown",
      "metadata": {
        "id": "wxRh7H359lWp"
      },
      "source": [
        "# Inference\n",
        "\n",
        "Pada fungsi inference ini akan menghasilkan nilai inference yang akan dibagi menjadi 3 keanggotaan yaitu ditolak, dipertimbangkan, dan diterima\n",
        "\n",
        "<center> Inference Rule </center>\n",
        "\n",
        "| Penghasilan \\ Pengeluaran  | Sedikit         | Sedang          | Banyak          |   |\n",
        "|-------------------------------|-----------------|-----------------|-----------------|---|\n",
        "| Sedikit                       | dipertimbangkan | diterima        | diterima        |   |\n",
        "| Sedang                        | ditolak         | dipertimbangkan | diterima        |   |\n",
        "| Banyak                        | ditolak         | ditolak         | dipertimbangkan |   |\n"
      ]
    },
    {
      "cell_type": "code",
      "metadata": {
        "id": "9Xlxguz4KXqh"
      },
      "source": [
        "fuzzy_set_rules = {\n",
        "    ('sedikit', 'sedikit') : 'dipertimbangkan',\n",
        "    ('sedikit', 'sedang') : 'diterima',\n",
        "    ('sedikit', 'banyak') : 'diterima',\n",
        "    ('sedang', 'sedikit') : 'ditolak',\n",
        "    ('sedang', 'sedang') : 'dipertimbangkan',\n",
        "    ('sedang', 'banyak') : 'diterima',\n",
        "    ('banyak', 'sedikit') : 'ditolak',\n",
        "    ('banyak', 'sedang') : 'ditolak',\n",
        "    ('banyak', 'banyak') : 'dipertimbangkan',\n",
        "}"
      ],
      "execution_count": null,
      "outputs": []
    },
    {
      "cell_type": "code",
      "metadata": {
        "id": "4w2CTPw-Xp2j"
      },
      "source": [
        "inference_result = []\n",
        "\n",
        "def inference(fuzzed):\n",
        "    result = {'ditolak': 0, \"dipertimbangkan\": 0, \"diterima\": 0}\n",
        "\n",
        "    for Penghasilan in fuzzed['Penghasilan'].keys():\n",
        "        for Pengeluaran in fuzzed['Pengeluaran'].keys():\n",
        "            min_value = min(fuzzed['Pengeluaran'][Pengeluaran], fuzzed['Penghasilan'][Penghasilan])\n",
        "\n",
        "            # Proses Conjunction Sesuai Fuzzy Rules pada variabel fuzzy_set_rules\n",
        "            output = fuzzy_set_rules[(Penghasilan, Pengeluaran)]\n",
        "\n",
        "            if min_value > result[output]:\n",
        "               result[output] = min_value\n",
        "\n",
        "    return result"
      ],
      "execution_count": null,
      "outputs": []
    },
    {
      "cell_type": "code",
      "metadata": {
        "colab": {
          "base_uri": "https://localhost:8080/"
        },
        "id": "zXbuEs4uYRSm",
        "outputId": "ecc2e604-87bb-473e-e90d-4d066d03bca1"
      },
      "source": [
        "for fuzzed in fuzzify:\n",
        "    inference_result.append(inference(fuzzed))\n",
        "\n",
        "print(\"Contoh Hasil Inferensi :\\n\")\n",
        "for i in range(0, 20, 2):\n",
        "    print(inference_result[i])"
      ],
      "execution_count": null,
      "outputs": [
        {
          "output_type": "stream",
          "text": [
            "Contoh Hasil Inferensi :\n",
            "\n",
            "{'ditolak': 0, 'dipertimbangkan': 1, 'diterima': 0}\n",
            "{'ditolak': 0, 'dipertimbangkan': 1, 'diterima': 0}\n",
            "{'ditolak': 0.5049999999999999, 'dipertimbangkan': 0.4950000000000001, 'diterima': 0}\n",
            "{'ditolak': 0, 'dipertimbangkan': 0.009999999999999787, 'diterima': 0.9900000000000002}\n",
            "{'ditolak': 0, 'dipertimbangkan': 1, 'diterima': 0}\n",
            "{'ditolak': 0, 'dipertimbangkan': 0.6699999999999999, 'diterima': 0.33000000000000007}\n",
            "{'ditolak': 0, 'dipertimbangkan': 0.8250000000000002, 'diterima': 0.17499999999999982}\n",
            "{'ditolak': 0, 'dipertimbangkan': 1, 'diterima': 0}\n",
            "{'ditolak': 0, 'dipertimbangkan': 1, 'diterima': 0}\n",
            "{'ditolak': 0.3200000000000003, 'dipertimbangkan': 0.6799999999999997, 'diterima': 0}\n"
          ],
          "name": "stdout"
        }
      ]
    },
    {
      "cell_type": "markdown",
      "metadata": {
        "id": "TDQDbWsZ9uDa"
      },
      "source": [
        "# Deffuzification\n",
        "\n",
        "Menggunakan sugeno model untuk fungsi deffuzzifikasi dengan nilai seperti berikut\n",
        "\n",
        "![image.png](data:image/png;base64,iVBORw0KGgoAAAANSUhEUgAAAcsAAAEjCAYAAABdFSqoAAAgAElEQVR4Ae2dB7RcVdmGdamwXMCSKr2EKtJCFUGKQJQmC7DQpAmCDREpspZiABFBisFE6SqCGrqASEgCIXSEEHontBhCkQQwkATI/te7/3/f/2MyN3funZk75/vuc9ZKZt8zZ/b5zvuevZ/d5sxHEhsKoAAKoAAKoMA8FfjIPN/lTRRAARRAARRAgQQsuQlQAAVQAAVQoAcFgGUPAvE2CqAACqAACgBL7gEUQAEUQAEU6EEBYNmDQLyNAiiAAiiAAsCSewAFUAAFUAAFelAAWPYgEG+jAAqgAAqgALDkHkABFEABFECBHhQAlj0IxNsogAIogAIoACy5B1AABVAABVCgBwWAZQ8C8TYKoAAKoAAKAEvuARRAARRAARToQQFg2YNAvI0CKIACKIACTcFyzpw5Sf/YUAAFUAAFUCCyAk3B8pVXXknPPPNMmjZtWvrggw8i68S1oQAKoAAKDGAFmoLlyJEj02GHHZZGjx6dZsyYMYBl5NJRAAVQAAUiK9AULI899ti03HLLpeHDh+feZWShuDYUQAEUQIGBqwCwHLjec+UogAIogAINKgAsGxSKw1AABVAABQauAsBy4HrPlaMACqAACjSoALBsUCgOQwEUQAEUGLgKAMuB6z1XjgIogAIo0KACwLJBoTgMBVAABVBg4CoALAeu91w5CqAACqBAgwoAywaF4jAUQAEUQIGBqwCwHLjec+UogAIogAINKgAsGxSKw1AABVAABQauAsBy4HrPlaMACqAACjSoALBsUCgOQwEUQAEUGLgKAMuB6z1XjgIogAIo0KACwLJBodp5mH4L9L333uM3QVPKGgwULfTD6fKeH1BvZ+lKWV/dU++//z5at1fq0LkDywrYe++996Yf/vCH6YYbbkj//e9/c6Fu9Y9pq7KYOXNmr4A8e/bsXn+mWTn7Q4tmY9Tn5U+zHj388MNp1KhR6dVXX21FSE3nIWjPmjUr/4sE8Jdeeikdc8wx6Q9/+EN6/fXXW+Jdb8SWlgJ1s/dLb87Jsa1XAFi2XtNe5yhIrrnmmum8885LTzzxRLryyivTPffcU/cHtfta6H70ox+lhRdeOI0dO7bh+Hbfffe0+OKLp1tvvbXhzzR7YG+0aPZcjXy+nt5vv/12uvbaa/OPnk+bNq2RbOoeo8p7pZVWyr4rz05vgsrnP//5tPPOO6fHH3+80+G07PzPPvts+tznPpeOOuqo9NRTT83TOwGt1T3QyZMnz7NMt+xCyaitCgDLtsrbWOa1gPj73/+eLr/88rl6HG+99Va65JJL0vXXX5+mT5/eWOb/d9S2226bPvKRj/QKln35TK+CqnNwo1rU+WjLd3Wnt3r/8uBPf/pTevrpp/MQel9Obq+1CrAsUNlqq62Ser1RtnJdBZbz8u66665Lf/nLX9Irr7zSssv/97//nbor0y07CRm1XQFg2XaJuz+Bhmc0PKoC+pnPfKarh6H99YbBbKFXAezNJvB99KMfTTfddFPdj5Vz2vP2Jyx13t5oUfci6uy012WvzR5qj7H756V3+Uw5Xn8rfjvU1lMvpa+wrD13iaHR1/J5vdqtXG9vYVnys3lVJa1e4pNPPpk22WST3LNUuZlXvLrne7r+8vnyWu9ay3t61Vb+Lsfq3tD9Yt+vN4pRju/utTbf7o5jf/MKAMvmNexTDrrJVXBPOumktNlmm6UFFligC5YaKnrooYfy/KXNvFRmaiHrsypwmldUIdNW/tZr7aZKYNCgQenuu++ufSt/ftKkSWnChAnphRdeyHNWOmi77babqzdazqHz1jvPXJk3sKNRLXSc5tQ09/ruu+9+qLKpdxrpoiEwaXnfffflSvOdd97JFZTyKdo999xz6f77789D4DNmzOjKal56v/jii/kzpYevY0844YQ8NKs83nzzzXTVVVeliy++OL388stZY51TMek6tNXCUvtVger69K/42hVQSjlmDZFqbveNN97oqoRr5xqVjz1XyUOe6d558MEHcx7/+c9/unws12thoZiUj7Sq57n2NRNPiasdrxoil/6aTtAURCk3td7ZcxdY6p4pflioKa2y8sADD+R7SkPXRRd5pvf1T4CWR88//3y+Z2vL9Pjx49Mvf/nLNHHixHy8jhs5cmT65z//mX1VHuV+sfGVtGKT/xoBkJcaBdE+tvYpACzbp+08c1YFvf3222dILrroomm++ebrguWJJ56Yllxyya4hUxUCVXIa8lML+YgjjsgFVZWtFgZddtllSRWDeo3f+9738vyI/raFp1QCtcNrqgg1V7rqqqvm+Umdt8xRHnTQQWnBBRfMcZTCefXVV+dz7L333unGG29Mgk+zW6NavPbaa2m33XZLSy21VJp//vnT0KFDuyqKWjBIr7/97W95LvgHP/hB2njjjdMaa6yRGwtlbk7XoCE3VaZqSOhaNcwt2PWktyq2Ms+sIdRHH300bbTRRl0VsjRdf/31s6/nnHNOuuCCC9KXv/zl9Nvf/jbpOrRpcU/JQ3BVJXzsscemZZddNs9lKhY7PCtPdS2rrbZa+uQnP5l22WWXDHjBz841CuCnnnpq+v3vf59BXfyRh3fddVfaYIMNckNomWWWSVtuuWWSpzqP4vrCF77Q1bMqYB0xYkT61re+lQ499NDcoFJFrq3ZeEpc7XiVBt///vfTEksske9rla8Cy3qNFGmje2ibbbbJ168yoAaWPnP66aenKVOm5KmPn/70p2mttdZKWgMgH/bdd9+kRobgt84666Rf/epX6ZRTTsn3qcrSpz/96XTbbbel2jJ9xRVX5M/rPpH3Bx54YFp++eXz/aJypYbXpptumsu2hv3tplhVZnbYYYd8r6gsHH/88S0dOrbnI/2/CgDLDtwJKshf+cpXcmFQoVQFqJavCo4qLVuwVGGp1akFP7/5zW9yJbryyivnilgFdfjw4bnnJAgKpFqQo0r58MMPzxWpCpa2erAsoNxwww3TpZdemlSAv/GNb+QWsT5T4hgzZkwunHvttVeuSP7617+mxx57rCWg7I0WxSrFpV7vWWedlSsZpc8+++w0derUDDlds4a2BSLt16Imgeywww5L6lWUHpRAoQpNFZOuR/ulfyN6aw6qgE6fKXn++Mc/zj3OzTffPFekgvCOO+6Y1l577TRs2LC09dZb5/lO9UYKYM8999wcoyC2//775wUo8uToo4/OlbSuW2BS5a/KXPfMcccdl372s5/lWIu/uh71MlRxqqIV/JW34tOm95Tvfvvtl5555pl8nCrzI488Mvc2Sz7qWepYjULovtljjz0y2FVBq/ekrRXx5Iza8J/KjDSQP7qvNbesxmA9WKpHpp6/yo8anfqMPNO/nXbaKZ155pnpjjvuyD035bn66qtnf3RfCZa/+93vMuwKgOXB0ksvnXu0atzqfpNmpSyVBXbleOv9N7/5zVy+db9897vfTT/5yU+yV+rllq2AUg3tgw8+OPuoe0L3ljxha58CwLJ92tbNWTf7GWeckVuhatFr2FOteS2+qQdLtTJVyavQqoWvwloKvT2BCrIqfvVgVIBVkAU3Df/onLWw1D71jjRXquNV0JSHKk8bh3pxF154Ya44BAIV/lZtvdWinFcVj3QoPWD1yFSxCZqq2DT0KlipUaHKS40I9e7K1wYK2KT5KquskhsiJe9G9S6VXdGq9O4EGjVU1KtURShI6zzqBeozWpUpyKuRUOI45JBD8nHqyWufKnj5J7/V61CjRnmqwtc9o6+aqLH1iU98omv0QdeuBpe80jn0VYnPfvazXfeK8tFnBAM1vHRf6DjNY+s+ETy1lftE95HS6glruM9urYjH5tfq9M0335zWXXfdrJ/ua/WKNc1Ryo317l//+lfuzf/iF7/IIxH6nB2GLrHpuMGDB2dfNUqx66675gZZGf4secrr0tssn9VrLSzV21RPVA0VNW7lzWmnnZb9UR4qixpClodqmJXevMAumKoxpKkD+aj7u17M9vykm1cAWDavYa9yKEOpqsw0tKOKcciQIbkXUCre2oJVTlAq11Loy34VWEFBFbQKkDYN8amgaahSK/tKJViGYdVzUEWu1qviKH+r8iyVuXpcqhhWWGGFupVmOX9fX/uqRT19dF3qNamS0Upi9eQ0JK3eURkq1jzSnXfemcGgBoquVRVULQzK9XSnt94vlWPxTPuksXwQ6FRBq0cuIJXKT5DTMWp0CK4lf70vaGsYXUBXD0OVtqBWGjUaQhbA5LUaOTqH4i8VqfJcZJFF8vlV+WqUQOcu98o//vGPXBELwKVhpKFbeau8NDxbGlWqxLVP92bRrmjSqnhKfq1+lT4CjzR45JFH8qjL1772tVy+ihb1vCtx1JaTsl+NVQ2P637RfaTeorSQbpq/FPxU/j72sY9l3UoPvHy+9p4t3quRV/LVlIAaM7of/vznP+f45WEZHVCPWY0m3Ssq35rT1N/yXfeLho3Z2qcAsGyftnVzVqFbbrnl0jXXXJO0uEIFW4VZ+0qhUCtXvcQyZFMyKgWsVLZlv3oFal2WykD7C4jKUJ6tBFShqPWrAiaYqPJUHCqYmj8t+WiYR0N5irn0yso5W/HaFy1UYQji6gELRmpxS8cyLKaelfRTBWRBpp6VrlmNFPWOpYeG2uoteCrX1p3eer9ehas8P/WpT+V5J1vZCWr6W+CxPpT8VTmqEtacoWJWZajr0PCpRh7Ui1Ds8lnfw5VPqphVSZZrLPdMyUsVp4Wl5sTUgFDlrn9qWOgcmiPVvSboqtG0xRZbZAgLtlpEJSDYrVXx2Dxbmb7lllvydWp6ojQKdB+rfJVyU8+7EoP8UYPHDn3qPc1r25689mm4Xg0ONUC0UEd6q6EjX2u34k8p08V73S/SX7AtcakM6u9yTCmP6jGrIaN7ReVR3/XV/Kl6vLoXSt615+bv1igALFujY8O5qNCpt6aVcmUYVDe/Kr9SKMqX1QUDu9mhvtJD1PtloUj5vICixS2lN6JKt1TSqgRUoajQ/frXv84FUnNhGuJTxWsXqZQ4FltssdxTUgEWaDUMV1uJ2jgbTfdFC1UomkPTkKMWsWhIW3qqha55Sl2rVhirAtLQqyBZ9FBlpmFMtfqLHlbH2ri701vHaeWwPCsNHO1TnoKVhn8F4VLZlb/LMWXIrLwvmOpBFFo9q8qv9PZ1vK5PFb38FCg1V6WFHVp0ol5IgWXxql5Fq6E6nVP/pJFWX5dzlApa16EhPi0YU8UrYGtUQvoI8tKwVfFI13ZtmrtTQ0nwV4NB97O0kldF93relXjUcNVioFrwaPRHPo0ePTproUaaenWaL9RoTvGylMGSX3kt/pQyXY7X/VKGbYsXBbjlGOWpqQUtblOZ1uiIGjya45aPmt+s17gu5+a1NQoAy9bo2HAuWkCj+SXNBalFqJtd82z1KrBSEdrM9VkVetvy1eIU9T5UaLRfFYVgqMUims/T9qUvfSlXgKrEBRMVOs1Vap6sDLlp2Eot5dIbtUO5Aro+IyBowYQWe2iRSjNbX7S4/fbb8/yferyKSRWfFvaUOR3Fo2NUOWqecNy4cRlE6kULPGXIVdehxTbzgqXyqqe39tuKrFT+pUItQ+w6Rr7ut99++Xh9zp5X3mg4eL311stzYKrk1dNTD69s8k3vS3Ol5Y8aLYKewHr++efnBoK80jXKc51XXqr3qIpWsNR5VbnK629/+9td90XxuFTypaGh+1P3plZoqjJXL0ba6RqbjafoVa6xla+KWzFrJbCGYtWwkBbSThooXc+7EkNtD7DsV091xRVXTD//+c+T5i9PPvnkXH7LUPW88lQeBYSlTMt7Nd4EYA2vq5EnL1RuBXeNltg8dU+rjGt+WSMCur9L+ZZnWlTU3XeoyzXw2pwCwLI5/Xr9ad30au0KPCqYqhg1/KbKSC1hteJ1TBkmUyGym5bvq9LTfJbd1CsRLPfZZ5/8T4sDChh0nN5XoVJBV6FSxaHemCp27VNvS5WYVlmWz5bKvPRCSpyquPVPQ70WUjaeRtJ91aJ2/qfeucpCHemha9Q1Wy333HPPpH+af5rX1p3e0kqNFgs3fW9OFbVWVUrPolfxVedR5a0edTmvNNbj5eSF5lrVE7bbRRddlIfY9b6GrYvm6s2oUaOeju4ZnUvfdywNhwLPEp+OV+9UOthz1A7hl8+VYWDFp16v/FZ8qsg15N9sPPYaW5kueqo3rkaBGo+6R3U/lGuv512JoehdIFj26+sb0kR56p5S2ZWmZW6y5Kn99Z71W69Ma5RAC9VKWS5aF4/1t4bFlacapxpGFmC1uKiUUcWnsq17XA3HZspjuVZe6ysALOvr0vG9qvxKQexUMKog1CuxXxnoRCy1WjQCy/6IszYuVZiq6ASvTm+18OwuHj36TcO5WhilSr7Rz3WXX3f725Vvd+fraX+tdz0d34r3a88pGHa6bLXiugZKHsByoDgd6DqrAkvvkmoeUpDUEJ56Up1unHnXk/hjKwAsY/sb8uo0X6S5HQ1tsfVNAYFSi0Q092XnVPuWG59CgfgKAMv4HnOFKNClgCCp7+fpq0taIKT5cy0YYq6rSyISKFBXAWBZVxZ2okD/KqAhUH2vUV/LaeemRSBa0brQQgulAw44oGsBTDvPOZDybsVXqgaSXp6uFVh6cotYQyqgXp0WemgxlR6DV77T2I6LrdpCm3ZcY6fylI/qtbfTv05dG+dNCVhyF6BAhxXQqmN9DUHft9VXidrdu+zw5YY9vb4bqUaPGjx4GM9mYBnPU67ImQLA0plh3YSrr4Lo6Vh6bfaBHd2cgt0dVABYdlB8To0CUgBYxrgP9IAHPTFKr5qDZv4yhq/lKoBlUYJXFOiQAsCyQ8K3+LTAssWCViw7YFkxQwhn4CkALGN4Dixj+NjdVQDL7pRxuF+r8DT0w/CPL/OApS+/uosWWHanTIz9wDKGj/kh4Xoiiwqslq+z+VEAWPrxal6RAst5qeP/PWDp38N8BXqI9/jx4/NXEGbMmBHkqgbGZQDLGD4Dyxg+dncVwLI7ZZztB5bODDPhAksjhuMksHRsXgOhA8sGRPJwCLD04FL9GIFlfV287QWW3hzrXbzAsnd6VfZoYFlZa3oMDFj2KJGLA4ClC5v6HCSw7LN01fogsKyWH72JBlj2Rq3qHgssq+tNKyIDlq1QsQJ5AMsKmNDHEIBlH4Wr2MeAZcUMaXE4wLLFgnYqO2DZKeWbPy+wbF7DKuQALKvgQvtiAJbt07ZfcwaW/Sp3S08GLFsqZ8cyA5Ydk75fTgws+0Xm9p8EWLZf43adAVi2S9n+zRdY9q/e/X02YNnfirfpfMCyTcL2Q7bAsh9E7odTAMt+ELmDpwCWHRS/lacGlq1Us3/zApb9q3e7zgYs26VsNfIFltXwoekogGXTEnYsA2DZMelbemJg2VI5K5cZsKycJX0LCFj2TbcqfApYVsGF5mMAls1rWOUcgGWV3elFbMCyF2JV7FBgWTFD+hgOsOyjcE4+BiydGNVTmMCyJ4Wq+z6wrK43vYkMWPZGLX/HAkt/ntWNGFjWlcXFTmDpwqYegwSWPUrk+gBg6dq+/w8eWP6/Ft5SwNKbY/XjBZb1dYmyF1gGcRJY+jUSWPr1zkYOLK0a8dLAMoinwNKvkcDSr3c2cmBp1YiXBpZBPAWWfo0Eln69s5EDS6tGvDSwDOIpsPRrJLD0652NHFhaNeKlgWUQT4GlXyOBpV/vbOTA0qoRLw0sg3gKLP0aCSz9emcjB5ZWjXhpYBnEU2Dp10hg6dc7GzmwtGrESwPLIJ4CS79GAku/3tnIgaVVI14aWAbxFFj6NRJY+vXORg4srRrx0sAyiKfA0q+RwNKvdzZyYGnViJcGlkE8BZZ+jQSWfr2zkQNLq0a8NLAM4imw9GsksPTrnY0cWFo14qWBZRBPgaVfI4GlX+9s5MDSqhEvDSyDeAos/RoJLP16ZyMHllaNeGlgGcRTYOnXSGDp1zsbObC0asRLA8sgngJLv0YCS7/e2ciBpVUjXhpYBvEUWPo1Elj69c5GDiytGvHSwDKIp8DSr5HA0q93NnJgadWIlwaWQTwFln6NBJZ+vbORA0urRrw0sAziKbD0aySw9OudjRxYWjXipYFlEE+BpV8jgaVf72zkwNKqES8NLIN4Ciz9Ggks/XpnIweWVo14aWAZxFNg6ddIYOnXOxs5sLRqxEsDyyCeAku/RgJLv97ZyIGlVSNeGlgG8RRY+jUSWPr1zkYOLK0a8dLAMoinwNKvkcDSr3c2cmBp1YiXBpZBPAWWfo0Eln69s5EDS6tGvDSwDOIpsPRrJLD0652NHFhaNeKlgWUQT4GlXyOBpV/vbOTA0qoRLw0sg3gKLP0aCSz9emcjB5ZWjXhpYBnEU2Dp10hg6dc7GzmwtGrESwPLIJ4CS79GAku/3tnIgaVVI14aWAbxFFj6NRJY+vXORg4srRrx0sAyiKfA0q+RwNKvdzZyYGnViJcGlkE8BZZ+jQSWfr2zkQNLq0a8NLAM4imw9GsksPTrnY0cWFo14qWBZRBPgaVfI4GlX+9s5MDSqhEvDSyDeAos/RoJLP16ZyMHllaNeGlgGcRTYOnXSGDp17sS+Zw5c9JDDz2UxowZkwTNmTNnJu1ji6MAsAziJbD0aySw9Otdifyll15Kt9xySxo1ahSwLKIEewWWQQwFln6NBJZ+vSuRq/wJljfccEN69tln6VkWYQK9AssgZgJLv0YCS7/elcinTJmSxo8fn0aPHp2ef/75NGvWrPIWr0EUAJZBjASWfo0Eln69K5GXYdg77rgjvf7668xXFmECvQLLIGYCS79GAku/3pXIBctx48blRT4zZswou3kNpACwDGImsPRrJLD0612JfPLkyXkYduLEiQlYFlVivQLLIH4CS79GAku/3pXIy5ylYCk/2eIpACyDeAos/RoJLP16VyJXz1KrYSdMmJDeeuutspvXQAoAyyBmAku/RgJLv96VyMucpVbETp06Nb3//vvlLV6DKAAsgxgJLP0aCSz9elciLz1LPZRg0qRJafbs2eUtXoMoACyDGAks/RoJLP16VyJ/8803k742cuONN6bnnnsOWBZhAr0CyyBmAku/RgJLv97ZyJ9++un89RFgaVWJkwaWQbwEln6NBJZ+vbORA0urRrw0sAziKbD0aySw9OudjRxYWjXipYFlEE+BpV8jgaVf72zkwNKqES8NLIN4Ciz9Ggks/XpnIweWVo14aWAZxFNg6ddIYOnXOxs5sLRqxEsDyyCeAku/RgJLv97ZyIGlVSNeGlgG8RRY+jUSWPr1zkYOLK0a8dLAMoinwNKvkcDSr3c2cmBp1YiXBpZBPAWWfo0Eln69s5EDS6tGvDSwDOIpsPRrJLD0652NHFhaNeKlgWUQT4GlXyOBpV/vbOTA0qoRLw0sg3gKLP0aCSz9emcjB5ZWjXhpYBnEU2Dp10hg6dc7GzmwtGrESwPLIJ4CS79GAku/3tnIgaVVI14aWAbxFFj6NRJY+vXORg4srRrx0sAyiKfA0q+RwNKvdzZyYGnViJcGlkE8BZZ+jQSWfr2zkQNLq0a8NLAM4imw9GsksPTrnY0cWFo14qWBZRBPgaVfI4GlX+9s5MDSqhEvDSyDeAos/RoJLP16ZyMHllaNeGlgGcRTYOnXSGDp1zsbObC0asRLA8sgngJLv0YCS7/e2ciBpVUjXhpYBvEUWPo1Elj69c5GDiytGvHSwDKIp8DSr5HA0q93NnJgadWIlwaWQTwFln6NBJZ+vbORA0urRrw0sAziKbD0aySw9OudjRxYWjXipYFlEE+BpV8jgaVf72zkwNKqES8NLIN4Ciz9Ggks/XpnIweWVo14aWAZxFNg6ddIYOnXOxs5sLRqxEsDyyCeAku/RgJLv97ZyIGlVSNeGlgG8RRY+jUSWPr1zkYOLK0a8dLAMoinwNKvkcDSr3c2cmBp1YiXBpZBPAWWfo0Eln69s5EDS6tGvDSwDOIpsPRrJLD0652NHFhaNeKlgWUQT4GlXyOBpV/vbOTA0qoRLw0sg3gKLP0aCSz9emcjB5ZWjXhpYBnEU2Dp10hg6dc7GzmwtGrESwPLIJ4CS79GAku/3tnIgaVVI14aWAbxFFj6NRJY+vXORg4srRrx0sAyiKfA0q+RwNKvdzZyYGnViJcGlkE8BZZ+jQSWfr2zkQNLq0a8NLAM4imw9GsksPTrnY0cWFo14qWBZRBPgaVfI4GlX+9s5MDSqhEvDSyDeAos/RoJLP16ZyMHllaNeGlgGcRTYOnXSGDp1zsbObC0asRLA8sgngJLv0YCS7/e2ciBpVUjXhpYBvEUWPo1Elj69c5GDiytGvHSwDKIp8DSr5HA0q93NnJgadWIlwaWQTwFln6NBJZ+vbORA0urRrw0sAziKbD0aySw9OudjRxYWjXipYFlEE+BpV8jgaVf72zkwNKqES8NLIN4Ciz9Ggks/XpnIweWVo14aWAZxFNg6ddIYOnXOxs5sLRqxEsDyyCeAku/RgJLv97ZyIGlVSNeGlgG8RRY+jUSWPr1zkYOLK0a8dLAMoinwNKvkcDSr3c2cmBp1YiXBpZBPAWWfo0Eln69s5EDS6tGvDSwDOIpsPRrJLD0652NHFhaNeKlgWUQT4GlXyOBpV/vbOTA0qoRLw0sg3gKLP0aCSz9emcjB5ZWjXhpYBnEU2Dp10hg6dc7GzmwtGrESwPLIJ4CS79GAku/3tnIgaVVI14aWAbxFFj6NRJY+vXORg4srRrx0sAyiKfA0q+RwNKvdzZyYGnViJcGlkE8BZZ+jQSWfr2zkQNLq0a8NLAM4imw9GsksPTrnY0cWFo14qWBZRBPgaVfI4GlX+9s5MDSqhEvDSyDeAos/RoJLP16ZyMHllaNeGlgGcRTYOnXSGDp1zsbObC0asRLA8sgngJLv0YCS7/e2ciBpVUjXhpYBvEUWPo1Elj69dldIyYAAA1ASURBVM5GDiytGvHSwDKIp8DSr5HA0q93NnJgadWIlwaWQTwFln6NBJZ+vbORA0urRrw0sAziKbD0aySw9OudjRxYWjXipYFlEE+BpV8jgaVf72zkwNKqES8NLIN4Ciz9Ggks/XpnIweWVo14aWAZxFNg6ddIYOnXOxs5sLRqxEsDyyCeAku/RgJLv97ZyIGlVSNeGlgG8RRY+jUSWPr1zkYOLK0a8dLAMoinwNKvkcDSr3c2cmBp1YiXBpZBPAWWfo0Eln69s5EDS6tGvDSwDOIpsPRrJLD0652NHFhaNeKlgWUQT4GlXyOBpV/vbOTA0qoRLw0sg3gKLP0aCSz9emcjB5ZWjXhpYBnEU2Dp10hg6dc7GzmwtGrESwPLIJ4CS79GAku/3tnIgaVVI14aWAbxFFj6NRJY+vXORg4srRrx0sAyiKfA0q+RwNKvdzZyYGnViJcGlkE8BZZ+jQSWfr2zkQNLq0a8NLAM4imw9GsksPTrnY0cWFo14qWBZRBPgaVfI4GlX+9s5MDSqhEvDSyDeAos/RoJLP16ZyMHllaNeGlgGcRTYOnXSGDp1zsbObC0asRLA8sgngJLv0YCS7/e2ciBpVUjXhpYBvEUWPo1Elj69c5GDiytGvHSwDKIp8DSr5HA0q93NnJgadWIlwaWQTwFln6NBJZ+vbORA0urRrw0sAziKbD0aySw9OudjRxYWjXipYFlEE+BpV8jgaVf72zkwNKqES8NLIN4Ciz9Ggks/XpnIweWVo14aWAZxFNg6ddIYOnXOxs5sLRqxEsDyyCeAku/RgJLv97ZyIGlVSNeGlgG8RRY+jUSWPr1zkYOLK0a8dLAMoinwNKvkcDSr3c2cmBp1YiXBpZBPAWWfo0Eln69s5EDS6tGvDSwDOIpsPRrJLD0652NHFhaNeKlgWUQT4GlXyOBpV/vbOTA0qoRLw0sg3gKLP0aCSz9emcjB5ZWjXhpYBnEU2Dp10hg6dc7GzmwtGrESwPLIJ4CS79GAku/3tnIgaVVI14aWAbxFFj6NRJY+vXORg4srRrx0sAyiKfA0q+RwNKvdzZyYGnViJcGlkE8BZZ+jQSWfr2zkQNLq0a8NLAM4imw9GsksPTrnY0cWFo14qWBZRBPgaVfI4GlX+9s5MDSqhEvDSyDeAos/RoJLP16ZyMHllaNeGlgGcRTYOnXSGDp1zsbObC0asRLA8sgngJLv0YCS7/e2ciBpVUjXhpYBvEUWPo1Elj69c5GDiytGvHSwDKIp8DSr5HA0q93NnJgadWIlwaWQTwFln6NBJZ+vbORA0urRrw0sAziKbD0aySw9OudjRxYWjXipZuC5VFHHZWWWWaZNGzYsPTGG2/EU8fRFQFLR2bVhAosawRx+iewdGpcg2E3BcuDDz44LbLIImno0KHplVdeafCUHNYOBYBlO1TtnzyBZf/o3O6zAMt2K9zZ/JuC5b777psWXHDBdPTRR6cXX3wxzZ49m38d0kD6jx8/Pk2YMCFNnz4dHzrkQ1/KgPySb7fffnt66aWX0rvvvot/jvwrnj/55JPp5ptvToKmGkBlP6+d4cL777+f5syZ0zLCNgXLffbZJ8Ny8ODBabfddkt77LEH/zqkwbHHHpsuu+yydM4556RDDjkEHzrkQ1/KwAEHHJCnMs4///ykqQ2Vq77kw2c6W/8cf/zx6eKLL07HHXdcUkdizz33xMcOlsPhw4enqVOnVgOWAuR8882XPv7xj+fX+eefP/GvMxpsu+226Y9//GMuqIMGDcIHZ/fikCFD0i677JJWXXXVtMACC+CfM/9U76233noZjuuss07uRFAXdqYuLLp//etfT0899VQ1YDlixIikQn7WWWeliRMn5sAUHP/6XwMN440dOzbdeuut6dFHH8UD7kPuAe6BAX0PzJgxo2WgVEZNDcM+8cQT6aabbkqTJk3K4/MtjYzMeqXAlClT8pylGi2tvkl6FQgHowAKoEBABZqCZUA93F7Sa6+9lheIPPLII3mBiNsLIXAUQAEUqKACwLKCpvQ1JK2i1AowNhRAARRAgdYqACxbqye5oQAKoAAKBFQAWAY0lUtCARRAARRorQLAsrV6khsKoAAKoEBABYBlQFO5JBRAARRAgdYqACxbqye5oQAKDBAF9Ci18m+AXPKAvkxg6ch+FcwPPvggr3jVayufe+hIhlChysf33nuv6zmiSuNrtS2WP3re62OPPZbuu+++/Fzf119/PfuId9X2rpnogGUz6vXTZ1UAVYlOnjw53XDDDemiiy5KV199dXrooYfqPoCgFGZ9lWTmzJlp1qxZ+fOqmNk6r0DxUxWsHp5++umnp4MOOig/E/bMM89MesCENnzsvFe1EciT5557Lj/WbuGFF85PMNOzfJdaaql08sknJ3lau+FjrSI+/waWFfdNBU0/v3XSSSelFVdcMRfOc889Nz+4frnllkuXXHLJXMDUL1foIc4LLbRQWmKJJdL222+fDj/88PwoPJ7u03nDX3jhhXTiiSd+yE89eemdd975UHD4+CE5KvHHyy+/nHbYYYe05pprpquuuip7pl8Y2WqrrZLgqcdN1m74WKuIz7+BZcV9U29yyy23TEsuuWT+RYO33347R6znv2600UZp7733Ts8888yHrkI/EbTJJpukbbbZJl133XXpyiuvTOuuu27+7VH9Mol6nGydU0CglJ/6lZHiZ71o8LGeKp3dd8YZZyQ1Ui+44IIu7zRio7K2yiqrpHvuuWeuAPFxLklc7gCWFbdNrVY9mL62UhUgBUT9UoWe0Ws3VcLqhZ522mnpjTfeyG/df//9acMNN0w77bRTevzxx+3hpPtZgRNOOCEP2+m5yvPa8HFe6nTmPf26j35dRD9coE2glI9qjJ566qnp1VdfnWvOGR8741WrzwosW61oP+WnH5lde+21kypeFdCyadhWP52mn6mprYyPPPLI3LscM2ZMOZzXflZA/uy+++7pq1/9av51GM0nl3llvWrhiI7Bx342poHTqeG69dZb5yHXBx98MK8DuPPOO3MjdLvttkvqdQqM9957b/7xZ3xsQFRHhwBLR2aVUKdPn5523nnntPTSS6dRo0blQlveKz3OL37xi+nhhx8uu/Pr5ZdfnlZbbbUeh/8+9CH+aKkCathsvvnm+Qe6hw4dmsG5xhprpM022ywtvvjief/zzz+fh9Y1coCPLZW/6cwOPfTQPC1y9tlnp8MOOywtu+yyST+8rqFWLbjT+4suumjXYh/KY9OSVyYDYFkZKxoLRA9K1+rJFVZYIV144YVzDc+OHz8+6cdnjzrqqLwwyOaqeZaVVlopjRw5Mvdm7Huk+0cB/ZzdFltskecs1dO/++67uxb2HHHEEXmRyDXXXJNHBfCxfzzpzVnUu9Q6gE033TQPpV966aVd/ikfvb/rrrvmhXVa7EN57I261T4WWFbbnw9Fp/kRgU49ES0SscOv5cDrr78+r9Q7/vjjP/S+PnvggQdmyN52223lcF47oIAqVH0VyG4astOKZfVKNHyOj1adaqXHjRtXdwqkRKmpES3gwseiSIxXYOnER8HurrvuShtssEHaf//98w9u1wt92LBhebXeeeed19XrVEWsHszgwYPTMccc0/U9vnqfZ1//KyB/tEhLw67qlTz55JMJH/vfh0bPqEanVsTW+5pIaZRqwY9WxuJjo6pW/zhgWX2P8mIPgXL99dfPoHz22WfzPhVMDcuql1IWh1xxxRVp9dVXz4V02rRp+Th9yV3fDVtmmWXmmuN0cPmhQ5SHGprVd2GtP/q6Dz5W03ot5tHXuTRHaTd5ee2116a11lqra+QHH61CvtPA0oF/+hK75kj0xWd9BURPCXnkkUfyMI8eSqAFBoMGDcogFSz1FZG99torf0VEYNUDCjRXWTu/4uDSw4aoilUrYceOHZt91QKf0aNHd80ll6/64GP1bgEt4tEDP1TWyg+uy0uBUivU7cgPPlbPv75GBCz7qlw/fk6P0Vp++eXzQwg0VLfYYovlJ/l85zvfScOHD8/zW/re19SpU3Mvsxy/8cYb50UI+qqCvmpS+4SYfrwETlWjgPwaMmRIHs475ZRTPjS/XA7Fx6JEtV71RC19v1k9SM1PjhgxIu24445p5ZVXTvW8xMdq+dfXaIBlX5Xrx89pQYgeTKBhn9qHE3QXRr1FJN0dy/7+V0D+6CsiPTVg8LH/vWnkjKVM6juVDzzwQJ5nnpeX+NiIqtU+BlhW2x+iQwEUQAEUqIACwLICJhACCqAACqBAtRUAltX2h+hQAAVQAAUqoACwrIAJhIACKIACKFBtBYBltf0hOhRAARRAgQooACwrYAIhoAAKoAAKVFsBYFltf4gOBVAABVCgAgoAywqYQAgogAIogALVVgBYVtsfokMBFEABFKiAAsCyAiYQAgqgAAqgQLUVAJbV9ofoUAAFUAAFKqAAsKyACYSAAiiAAihQbQWAZbX9IToUQAEUQIEKKAAsK2ACIaAACqAAClRbAWBZbX+IDgVQAAVQoAIK/A8UNyLxvhxBuwAAAABJRU5ErkJggg==)"
      ]
    },
    {
      "cell_type": "code",
      "metadata": {
        "id": "wsbrlchHKT4W",
        "colab": {
          "base_uri": "https://localhost:8080/",
          "height": 227
        },
        "outputId": "5287d458-b12a-4489-9e51-6be3be568323"
      },
      "source": [
        "plt.figure(figsize=(8, 3))\n",
        "plt.title(\"Sugeno Model Singleton\")\n",
        "\n",
        "plt.plot([20,20], [0, 1], label=\"Ditolak\")\n",
        "plt.plot([50,50], [0, 1], label=\"Dipertimbangkan\")\n",
        "plt.plot([80,80], [0, 1], label=\"Diterima\")\n",
        "plt.xticks(np.arange(0, 110, 10.0))\n",
        "plt.legend()\n",
        "plt.show()"
      ],
      "execution_count": null,
      "outputs": [
        {
          "output_type": "display_data",
          "data": {
            "image/png": "[encoded data removed]",
            "text/plain": [
              "<Figure size 576x216 with 1 Axes>"
            ]
          },
          "metadata": {
            "tags": [],
            "needs_background": "light"
          }
        }
      ]
    },
    {
      "cell_type": "code",
      "metadata": {
        "id": "oxrhnGM6Yy0E"
      },
      "source": [
        "deffuzy = {'ditolak': 20, \"dipertimbangkan\": 50, \"diterima\": 80}\n",
        "\n",
        "def defuzzification(inference, deffuzy):\n",
        "    numerator, denominator = 0, 0\n",
        "    \n",
        "    for output in deffuzy.keys():\n",
        "        numerator += inference[output] * deffuzy[output]\n",
        "        denominator += inference[output]\n",
        "        \n",
        "    return numerator/denominator\n",
        "\n",
        "final = []\n",
        "\n",
        "for inference in inference_result:\n",
        "    final.append(defuzzification(inference, deffuzy)) "
      ],
      "execution_count": null,
      "outputs": []
    },
    {
      "cell_type": "code",
      "metadata": {
        "colab": {
          "base_uri": "https://localhost:8080/"
        },
        "id": "JThwwfR0Y9Q7",
        "outputId": "8a35c1ae-d8aa-44a7-f2d4-97f991ccf87a"
      },
      "source": [
        "print(\"Contoh Hasil Defuzifikasi:\\n\")\n",
        "for i in range(0, 50, 5):\n",
        "    print(f'Data Ke-{i+1} = {final[i]}')   "
      ],
      "execution_count": null,
      "outputs": [
        {
          "output_type": "stream",
          "text": [
            "Contoh Hasil Defuzifikasi:\n",
            "\n",
            "Data Ke-1 = 50.0\n",
            "Data Ke-6 = 38.0\n",
            "Data Ke-11 = 59.900000000000006\n",
            "Data Ke-16 = 50.0\n",
            "Data Ke-21 = 50.0\n",
            "Data Ke-26 = 50.0\n",
            "Data Ke-31 = 50.0\n",
            "Data Ke-36 = 38.0\n",
            "Data Ke-41 = 63.8\n",
            "Data Ke-46 = 74.2\n"
          ],
          "name": "stdout"
        }
      ]
    },
    {
      "cell_type": "markdown",
      "metadata": {
        "id": "x0yzlURlIjm8"
      },
      "source": [
        "# Output\n",
        "tampilkan 10 mahasiswa teratas yang layak mendapatkan bantuan "
      ]
    },
    {
      "cell_type": "code",
      "metadata": {
        "id": "5euYteZYKUaO",
        "colab": {
          "base_uri": "https://localhost:8080/",
          "height": 359
        },
        "outputId": "85ad6a51-5e92-4d6d-8d5e-daf5dccaf3af"
      },
      "source": [
        "data['result'] = final\n",
        "data = data.sort_values(by='result', ascending=False)[:10]\n",
        " \n",
        "data"
      ],
      "execution_count": null,
      "outputs": [
        {
          "output_type": "execute_result",
          "data": {
            "text/html": [
              "<div>\n",
              "<style scoped>\n",
              "    .dataframe tbody tr th:only-of-type {\n",
              "        vertical-align: middle;\n",
              "    }\n",
              "\n",
              "    .dataframe tbody tr th {\n",
              "        vertical-align: top;\n",
              "    }\n",
              "\n",
              "    .dataframe thead th {\n",
              "        text-align: right;\n",
              "    }\n",
              "</style>\n",
              "<table border=\"1\" class=\"dataframe\">\n",
              "  <thead>\n",
              "    <tr style=\"text-align: right;\">\n",
              "      <th></th>\n",
              "      <th>Id</th>\n",
              "      <th>Penghasilan</th>\n",
              "      <th>Pengeluaran</th>\n",
              "      <th>result</th>\n",
              "    </tr>\n",
              "  </thead>\n",
              "  <tbody>\n",
              "    <tr>\n",
              "      <th>78</th>\n",
              "      <td>79</td>\n",
              "      <td>8.52</td>\n",
              "      <td>10.32</td>\n",
              "      <td>80.00</td>\n",
              "    </tr>\n",
              "    <tr>\n",
              "      <th>3</th>\n",
              "      <td>4</td>\n",
              "      <td>8.23</td>\n",
              "      <td>9.25</td>\n",
              "      <td>80.00</td>\n",
              "    </tr>\n",
              "    <tr>\n",
              "      <th>32</th>\n",
              "      <td>33</td>\n",
              "      <td>7.03</td>\n",
              "      <td>10.11</td>\n",
              "      <td>80.00</td>\n",
              "    </tr>\n",
              "    <tr>\n",
              "      <th>6</th>\n",
              "      <td>7</td>\n",
              "      <td>9.03</td>\n",
              "      <td>9.35</td>\n",
              "      <td>79.70</td>\n",
              "    </tr>\n",
              "    <tr>\n",
              "      <th>93</th>\n",
              "      <td>94</td>\n",
              "      <td>9.07</td>\n",
              "      <td>10.21</td>\n",
              "      <td>79.30</td>\n",
              "    </tr>\n",
              "    <tr>\n",
              "      <th>51</th>\n",
              "      <td>52</td>\n",
              "      <td>9.10</td>\n",
              "      <td>9.57</td>\n",
              "      <td>79.00</td>\n",
              "    </tr>\n",
              "    <tr>\n",
              "      <th>80</th>\n",
              "      <td>81</td>\n",
              "      <td>9.18</td>\n",
              "      <td>9.46</td>\n",
              "      <td>78.20</td>\n",
              "    </tr>\n",
              "    <tr>\n",
              "      <th>24</th>\n",
              "      <td>25</td>\n",
              "      <td>6.48</td>\n",
              "      <td>7.85</td>\n",
              "      <td>77.75</td>\n",
              "    </tr>\n",
              "    <tr>\n",
              "      <th>62</th>\n",
              "      <td>63</td>\n",
              "      <td>9.29</td>\n",
              "      <td>9.25</td>\n",
              "      <td>77.10</td>\n",
              "    </tr>\n",
              "    <tr>\n",
              "      <th>49</th>\n",
              "      <td>50</td>\n",
              "      <td>9.31</td>\n",
              "      <td>11.29</td>\n",
              "      <td>76.90</td>\n",
              "    </tr>\n",
              "  </tbody>\n",
              "</table>\n",
              "</div>"
            ],
            "text/plain": [
              "    Id  Penghasilan  Pengeluaran  result\n",
              "78  79         8.52        10.32   80.00\n",
              "3    4         8.23         9.25   80.00\n",
              "32  33         7.03        10.11   80.00\n",
              "6    7         9.03         9.35   79.70\n",
              "93  94         9.07        10.21   79.30\n",
              "51  52         9.10         9.57   79.00\n",
              "80  81         9.18         9.46   78.20\n",
              "24  25         6.48         7.85   77.75\n",
              "62  63         9.29         9.25   77.10\n",
              "49  50         9.31        11.29   76.90"
            ]
          },
          "metadata": {
            "tags": []
          },
          "execution_count": 348
        }
      ]
    }
  ]
}